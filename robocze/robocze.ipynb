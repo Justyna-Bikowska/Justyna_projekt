{
 "cells": [
  {
   "cell_type": "code",
   "execution_count": null,
   "id": "5ecc4f1d-fea9-4b16-a45a-527de4b64b39",
   "metadata": {},
   "outputs": [],
   "source": [
    "#kod starego wykresu kołowego - kolory paleta\n",
    "plt.figure(figsize = (8,5))\n",
    "\n",
    "\n",
    "values = df_moc['moc 2021']\n",
    "labels = df_moc['elektrownie']\n",
    "#colors = sns.color_palette('pastel')[0:8]\n",
    "colors=sns.color_palette(\"RdGy\",8)\n",
    "\n",
    "plt.pie(values, labels=labels, colors=colors, autopct='%1.1f%%')\n",
    "plt.title('Moc osiągalna w KSE w 2022')\n",
    "plt.show()"
   ]
  },
  {
   "cell_type": "code",
   "execution_count": 1,
   "id": "892ccacf-37cf-42ef-862e-93f66d472f84",
   "metadata": {},
   "outputs": [],
   "source": [
    "import pandas as pd\n",
    "import numpy as np\n",
    "\n",
    "import seaborn as sns\n",
    "import matplotlib.pyplot as plt\n",
    "\n",
    "import datetime\n",
    "\n",
    "import sqlite3\n",
    "\n",
    "import requests\n",
    "from bs4 import BeautifulSoup\n",
    "\n",
    "import os\n",
    "import sys"
   ]
  },
  {
   "cell_type": "code",
   "execution_count": 2,
   "id": "dd46d086-3c0a-4808-9b77-3d3e4c2d9b95",
   "metadata": {},
   "outputs": [
    {
     "data": {
      "text/plain": [
       "['ZAP_czerwiec.csv',\n",
       " 'ZAP_grudzien.csv',\n",
       " 'ZAP_kwiecien.csv',\n",
       " 'ZAP_lipiec.csv',\n",
       " 'ZAP_listopad.csv',\n",
       " 'ZAP_luty.csv',\n",
       " 'ZAP_maj.csv',\n",
       " 'ZAP_marzec.csv',\n",
       " 'ZAP_pazdziernik.csv',\n",
       " 'ZAP_sierpien.csv',\n",
       " 'ZAP_styczen.csv',\n",
       " 'ZAP_wrzesien.csv']"
      ]
     },
     "execution_count": 2,
     "metadata": {},
     "output_type": "execute_result"
    }
   ],
   "source": [
    "os.listdir('zap_2022')"
   ]
  },
  {
   "cell_type": "code",
   "execution_count": 3,
   "id": "b454eadf-dd47-47ed-afc0-9bca278e6cb4",
   "metadata": {},
   "outputs": [],
   "source": [
    "csv_files = [file for file in os.listdir('zap_2022') if file.endswith('.csv')]"
   ]
  },
  {
   "cell_type": "code",
   "execution_count": 4,
   "id": "5660aadb-d391-4571-8388-38b2b42089e0",
   "metadata": {},
   "outputs": [],
   "source": [
    "csv_data = {file[:-4]: pd.read_csv('zap_2022/'+file, sep=';', dtype={'Data':object, 'Godz.':object}) for file in csv_files}"
   ]
  },
  {
   "cell_type": "code",
   "execution_count": 29,
   "id": "76ec54ce-b942-4fab-9181-1a466267bf5f",
   "metadata": {},
   "outputs": [],
   "source": [
    "csv_data_list = [pd.read_csv('zap_2022/'+file, sep=';', dtype={'Data':object, 'Godz.':object}) for file in csv_files]"
   ]
  },
  {
   "cell_type": "code",
   "execution_count": null,
   "id": "18441780-f8b9-434f-be59-920658bb6e60",
   "metadata": {},
   "outputs": [],
   "source": [
    "csv_data_list"
   ]
  },
  {
   "cell_type": "code",
   "execution_count": 34,
   "id": "db8e36b4-d6f6-48fe-9540-22528a6bafa1",
   "metadata": {},
   "outputs": [
    {
     "data": {
      "text/plain": [
       "Data                                   object\n",
       "Godz.                                  object\n",
       "Dobowa prognoza zapotrzebowania KSE     int64\n",
       "Rzeczywiste zapotrzebowanie KSE        object\n",
       "dtype: object"
      ]
     },
     "execution_count": 34,
     "metadata": {},
     "output_type": "execute_result"
    }
   ],
   "source": [
    "total = pd.concat(csv_data_list, axis=0, ignore_index=True)\n",
    "total.dtypes"
   ]
  },
  {
   "cell_type": "code",
   "execution_count": null,
   "id": "4a6a582a-5951-484f-86f4-08e0e9ec9ff2",
   "metadata": {},
   "outputs": [],
   "source": []
  },
  {
   "cell_type": "code",
   "execution_count": null,
   "id": "a77dadc2-eed2-4161-9c57-1e50fd3ca0f1",
   "metadata": {},
   "outputs": [],
   "source": []
  },
  {
   "cell_type": "code",
   "execution_count": 25,
   "id": "d7e85577-2310-4422-86db-c941d8c1cb71",
   "metadata": {},
   "outputs": [
    {
     "data": {
      "text/plain": [
       "pandas.core.frame.DataFrame"
      ]
     },
     "execution_count": 25,
     "metadata": {},
     "output_type": "execute_result"
    }
   ],
   "source": [
    "type(csv_data['ZAP_czerwiec'])"
   ]
  },
  {
   "cell_type": "code",
   "execution_count": 5,
   "id": "59e207be-8962-4d71-8524-3366c403b4e4",
   "metadata": {},
   "outputs": [],
   "source": [
    "zap_062022=csv_data['ZAP_czerwiec'].copy()"
   ]
  },
  {
   "cell_type": "code",
   "execution_count": 6,
   "id": "30f2db23-7efd-45be-a11c-bb5dc8d882f7",
   "metadata": {},
   "outputs": [
    {
     "data": {
      "text/plain": [
       "['ZAP_czerwiec.csv',\n",
       " 'ZAP_grudzien.csv',\n",
       " 'ZAP_kwiecien.csv',\n",
       " 'ZAP_lipiec.csv',\n",
       " 'ZAP_listopad.csv',\n",
       " 'ZAP_luty.csv',\n",
       " 'ZAP_maj.csv',\n",
       " 'ZAP_marzec.csv',\n",
       " 'ZAP_pazdziernik.csv',\n",
       " 'ZAP_sierpien.csv',\n",
       " 'ZAP_styczen.csv',\n",
       " 'ZAP_wrzesien.csv']"
      ]
     },
     "execution_count": 6,
     "metadata": {},
     "output_type": "execute_result"
    }
   ],
   "source": [
    "# csv_files - jest to lista nazw plików "
   ]
  },
  {
   "cell_type": "code",
   "execution_count": 27,
   "id": "d484f97d-288e-4bdc-a6d8-1502d2e3aafb",
   "metadata": {},
   "outputs": [
    {
     "data": {
      "text/plain": [
       "<function dict.values>"
      ]
     },
     "execution_count": 27,
     "metadata": {},
     "output_type": "execute_result"
    }
   ],
   "source": [
    "va=csv_data.values\n",
    "va"
   ]
  },
  {
   "cell_type": "code",
   "execution_count": null,
   "id": "8e7f7c42-527e-4221-8433-35741478f3f6",
   "metadata": {},
   "outputs": [],
   "source": [
    "csv_data_df = "
   ]
  },
  {
   "cell_type": "code",
   "execution_count": 8,
   "id": "cda87a2f-fb0e-41cf-b763-1fb9c37a2a5a",
   "metadata": {},
   "outputs": [],
   "source": [
    "#csv_data - słownik, gdzie kluczem jest nazwa pliku, a wartością dane w tym pliku"
   ]
  },
  {
   "cell_type": "code",
   "execution_count": null,
   "id": "83d903c9-6100-4927-9577-b37efa179874",
   "metadata": {},
   "outputs": [],
   "source": [
    "zap_062022=csv_data['ZAP_czerwiec'].copy()\n",
    "zap_062022.head()"
   ]
  },
  {
   "cell_type": "code",
   "execution_count": null,
   "id": "e6b7a8ef-6480-4b2f-94e9-94f6f0db5d2e",
   "metadata": {},
   "outputs": [],
   "source": [
    "zap_122022=csv_data['ZAP_grudzien'].copy()\n",
    "zap_122022.head()"
   ]
  },
  {
   "cell_type": "code",
   "execution_count": 18,
   "id": "da12ade5-bcdf-4df6-a686-763e441fae44",
   "metadata": {},
   "outputs": [
    {
     "data": {
      "text/html": [
       "<div>\n",
       "<style scoped>\n",
       "    .dataframe tbody tr th:only-of-type {\n",
       "        vertical-align: middle;\n",
       "    }\n",
       "\n",
       "    .dataframe tbody tr th {\n",
       "        vertical-align: top;\n",
       "    }\n",
       "\n",
       "    .dataframe thead th {\n",
       "        text-align: right;\n",
       "    }\n",
       "</style>\n",
       "<table border=\"1\" class=\"dataframe\">\n",
       "  <thead>\n",
       "    <tr style=\"text-align: right;\">\n",
       "      <th></th>\n",
       "      <th>Data</th>\n",
       "      <th>Godz.</th>\n",
       "      <th>Dobowa prognoza zapotrzebowania KSE</th>\n",
       "      <th>Rzeczywiste zapotrzebowanie KSE</th>\n",
       "    </tr>\n",
       "  </thead>\n",
       "  <tbody>\n",
       "    <tr>\n",
       "      <th>0</th>\n",
       "      <td>20220601</td>\n",
       "      <td>1</td>\n",
       "      <td>17500</td>\n",
       "      <td>17128,763</td>\n",
       "    </tr>\n",
       "    <tr>\n",
       "      <th>1</th>\n",
       "      <td>20220601</td>\n",
       "      <td>2</td>\n",
       "      <td>16751</td>\n",
       "      <td>16449,413</td>\n",
       "    </tr>\n",
       "    <tr>\n",
       "      <th>2</th>\n",
       "      <td>20220601</td>\n",
       "      <td>3</td>\n",
       "      <td>16300</td>\n",
       "      <td>16154,500</td>\n",
       "    </tr>\n",
       "    <tr>\n",
       "      <th>3</th>\n",
       "      <td>20220601</td>\n",
       "      <td>4</td>\n",
       "      <td>16300</td>\n",
       "      <td>16141,338</td>\n",
       "    </tr>\n",
       "    <tr>\n",
       "      <th>4</th>\n",
       "      <td>20220601</td>\n",
       "      <td>5</td>\n",
       "      <td>16250</td>\n",
       "      <td>16127,925</td>\n",
       "    </tr>\n",
       "    <tr>\n",
       "      <th>...</th>\n",
       "      <td>...</td>\n",
       "      <td>...</td>\n",
       "      <td>...</td>\n",
       "      <td>...</td>\n",
       "    </tr>\n",
       "    <tr>\n",
       "      <th>1459</th>\n",
       "      <td>20221231</td>\n",
       "      <td>20</td>\n",
       "      <td>19050</td>\n",
       "      <td>17259,125</td>\n",
       "    </tr>\n",
       "    <tr>\n",
       "      <th>1460</th>\n",
       "      <td>20221231</td>\n",
       "      <td>21</td>\n",
       "      <td>17950</td>\n",
       "      <td>16137,813</td>\n",
       "    </tr>\n",
       "    <tr>\n",
       "      <th>1461</th>\n",
       "      <td>20221231</td>\n",
       "      <td>22</td>\n",
       "      <td>16850</td>\n",
       "      <td>15211,013</td>\n",
       "    </tr>\n",
       "    <tr>\n",
       "      <th>1462</th>\n",
       "      <td>20221231</td>\n",
       "      <td>23</td>\n",
       "      <td>16300</td>\n",
       "      <td>14640,538</td>\n",
       "    </tr>\n",
       "    <tr>\n",
       "      <th>1463</th>\n",
       "      <td>20221231</td>\n",
       "      <td>24</td>\n",
       "      <td>15850</td>\n",
       "      <td>13976,538</td>\n",
       "    </tr>\n",
       "  </tbody>\n",
       "</table>\n",
       "<p>1464 rows × 4 columns</p>\n",
       "</div>"
      ],
      "text/plain": [
       "          Data Godz.  Dobowa prognoza zapotrzebowania KSE  \\\n",
       "0     20220601     1                                17500   \n",
       "1     20220601     2                                16751   \n",
       "2     20220601     3                                16300   \n",
       "3     20220601     4                                16300   \n",
       "4     20220601     5                                16250   \n",
       "...        ...   ...                                  ...   \n",
       "1459  20221231    20                                19050   \n",
       "1460  20221231    21                                17950   \n",
       "1461  20221231    22                                16850   \n",
       "1462  20221231    23                                16300   \n",
       "1463  20221231    24                                15850   \n",
       "\n",
       "     Rzeczywiste zapotrzebowanie KSE  \n",
       "0                          17128,763  \n",
       "1                          16449,413  \n",
       "2                          16154,500  \n",
       "3                          16141,338  \n",
       "4                          16127,925  \n",
       "...                              ...  \n",
       "1459                       17259,125  \n",
       "1460                       16137,813  \n",
       "1461                       15211,013  \n",
       "1462                       14640,538  \n",
       "1463                       13976,538  \n",
       "\n",
       "[1464 rows x 4 columns]"
      ]
     },
     "execution_count": 18,
     "metadata": {},
     "output_type": "execute_result"
    }
   ],
   "source": [
    "total = pd.concat([zap_062022, zap_122022], axis=0, ignore_index=True)\n",
    "total"
   ]
  },
  {
   "cell_type": "code",
   "execution_count": null,
   "id": "d4089cf1-4025-4c3d-b591-a2b1352181cb",
   "metadata": {},
   "outputs": [],
   "source": []
  },
  {
   "cell_type": "code",
   "execution_count": null,
   "id": "38ae98d4-a72e-4783-9739-551f55c3da4f",
   "metadata": {},
   "outputs": [],
   "source": []
  },
  {
   "cell_type": "code",
   "execution_count": 10,
   "id": "1145caf4-8da1-4e5f-ab2c-9750fde2b7b5",
   "metadata": {},
   "outputs": [
    {
     "data": {
      "text/html": [
       "<div>\n",
       "<style scoped>\n",
       "    .dataframe tbody tr th:only-of-type {\n",
       "        vertical-align: middle;\n",
       "    }\n",
       "\n",
       "    .dataframe tbody tr th {\n",
       "        vertical-align: top;\n",
       "    }\n",
       "\n",
       "    .dataframe thead th {\n",
       "        text-align: right;\n",
       "    }\n",
       "</style>\n",
       "<table border=\"1\" class=\"dataframe\">\n",
       "  <thead>\n",
       "    <tr style=\"text-align: right;\">\n",
       "      <th></th>\n",
       "      <th>Data</th>\n",
       "      <th>Godz.</th>\n",
       "      <th>Dobowa prognoza zapotrzebowania KSE</th>\n",
       "      <th>Rzeczywiste zapotrzebowanie KSE</th>\n",
       "    </tr>\n",
       "  </thead>\n",
       "  <tbody>\n",
       "    <tr>\n",
       "      <th>0</th>\n",
       "      <td>20220601</td>\n",
       "      <td>1</td>\n",
       "      <td>17500</td>\n",
       "      <td>17128,763</td>\n",
       "    </tr>\n",
       "    <tr>\n",
       "      <th>1</th>\n",
       "      <td>20220601</td>\n",
       "      <td>2</td>\n",
       "      <td>16751</td>\n",
       "      <td>16449,413</td>\n",
       "    </tr>\n",
       "    <tr>\n",
       "      <th>2</th>\n",
       "      <td>20220601</td>\n",
       "      <td>3</td>\n",
       "      <td>16300</td>\n",
       "      <td>16154,500</td>\n",
       "    </tr>\n",
       "    <tr>\n",
       "      <th>3</th>\n",
       "      <td>20220601</td>\n",
       "      <td>4</td>\n",
       "      <td>16300</td>\n",
       "      <td>16141,338</td>\n",
       "    </tr>\n",
       "    <tr>\n",
       "      <th>4</th>\n",
       "      <td>20220601</td>\n",
       "      <td>5</td>\n",
       "      <td>16250</td>\n",
       "      <td>16127,925</td>\n",
       "    </tr>\n",
       "  </tbody>\n",
       "</table>\n",
       "</div>"
      ],
      "text/plain": [
       "       Data Godz.  Dobowa prognoza zapotrzebowania KSE  \\\n",
       "0  20220601     1                                17500   \n",
       "1  20220601     2                                16751   \n",
       "2  20220601     3                                16300   \n",
       "3  20220601     4                                16300   \n",
       "4  20220601     5                                16250   \n",
       "\n",
       "  Rzeczywiste zapotrzebowanie KSE  \n",
       "0                       17128,763  \n",
       "1                       16449,413  \n",
       "2                       16154,500  \n",
       "3                       16141,338  \n",
       "4                       16127,925  "
      ]
     },
     "execution_count": 10,
     "metadata": {},
     "output_type": "execute_result"
    }
   ],
   "source": [
    "zap_062022.head()"
   ]
  },
  {
   "cell_type": "code",
   "execution_count": null,
   "id": "93d87c74-13fc-4e36-9078-cdc5423b8e99",
   "metadata": {},
   "outputs": [],
   "source": [
    "import plotly.express as px\n",
    "import numpy as np \n",
    "    \n",
    "y = plan_2023['gen wiatr']\n",
    "x = plan_2023['nadwyżki OSP']\n",
    "\n",
    "    \n",
    "plot = px.scatter(y, x)\n",
    "plot.show()"
   ]
  },
  {
   "cell_type": "code",
   "execution_count": null,
   "id": "36663ddd-03af-4f39-800b-ebc583bb54ba",
   "metadata": {},
   "outputs": [],
   "source": []
  },
  {
   "cell_type": "markdown",
   "id": "18914d4e-b37c-488d-a4a4-7496e299ddfa",
   "metadata": {},
   "source": [
    "##  Rezerwa - na razie pomijamy"
   ]
  },
  {
   "cell_type": "code",
   "execution_count": null,
   "id": "c088bc57-486a-446b-9abb-5bd24b1736dc",
   "metadata": {},
   "outputs": [],
   "source": [
    "plt.figure(figsize = (10,5))\n",
    "\n",
    "dayList  = plan_2023['Doba']\n",
    "values_rezerwa = plan_2023['nadwyżki OSP']\n",
    "\n",
    "plt.plot(dayList, values_rezerwa )\n",
    "plt.ylabel('MW')\n",
    "plt.ylim(0)\n",
    "plt.title('nadwyżki mocy')\n",
    "\n",
    "\n",
    "# tu zmienić, aby po prawej stronie był procent \n",
    "\n",
    "plt.show()"
   ]
  },
  {
   "cell_type": "code",
   "execution_count": 1,
   "id": "6f4e72ef-bc6f-431a-a5ac-ffb4e3a792a3",
   "metadata": {},
   "outputs": [
    {
     "ename": "NameError",
     "evalue": "name 'plt' is not defined",
     "output_type": "error",
     "traceback": [
      "\u001b[1;31m---------------------------------------------------------------------------\u001b[0m",
      "\u001b[1;31mNameError\u001b[0m                                 Traceback (most recent call last)",
      "\u001b[1;32m~\\AppData\\Local\\Temp\\ipykernel_21692\\2386099818.py\u001b[0m in \u001b[0;36m<module>\u001b[1;34m\u001b[0m\n\u001b[0;32m      1\u001b[0m \u001b[1;31m# Wykres zapotrzebowania\u001b[0m\u001b[1;33m\u001b[0m\u001b[1;33m\u001b[0m\u001b[0m\n\u001b[0;32m      2\u001b[0m \u001b[1;33m\u001b[0m\u001b[0m\n\u001b[1;32m----> 3\u001b[1;33m \u001b[0mfig3a\u001b[0m\u001b[1;33m,\u001b[0m \u001b[0maxs\u001b[0m \u001b[1;33m=\u001b[0m \u001b[0mplt\u001b[0m\u001b[1;33m.\u001b[0m\u001b[0msubplots\u001b[0m\u001b[1;33m(\u001b[0m\u001b[1;36m1\u001b[0m\u001b[1;33m,\u001b[0m \u001b[1;36m2\u001b[0m\u001b[1;33m,\u001b[0m \u001b[0mfigsize\u001b[0m \u001b[1;33m=\u001b[0m \u001b[1;33m(\u001b[0m\u001b[1;36m20\u001b[0m\u001b[1;33m,\u001b[0m\u001b[1;36m6\u001b[0m\u001b[1;33m)\u001b[0m\u001b[1;33m)\u001b[0m\u001b[1;33m\u001b[0m\u001b[1;33m\u001b[0m\u001b[0m\n\u001b[0m\u001b[0;32m      4\u001b[0m \u001b[0mdayList\u001b[0m  \u001b[1;33m=\u001b[0m \u001b[0msrednie_godz\u001b[0m\u001b[1;33m[\u001b[0m\u001b[1;34m'Godzina'\u001b[0m\u001b[1;33m]\u001b[0m\u001b[1;33m\u001b[0m\u001b[1;33m\u001b[0m\u001b[0m\n\u001b[0;32m      5\u001b[0m \u001b[0mgodziny\u001b[0m \u001b[1;33m=\u001b[0m \u001b[0mrange\u001b[0m\u001b[1;33m(\u001b[0m\u001b[1;36m1\u001b[0m\u001b[1;33m,\u001b[0m\u001b[1;36m25\u001b[0m\u001b[1;33m)\u001b[0m\u001b[1;33m\u001b[0m\u001b[1;33m\u001b[0m\u001b[0m\n",
      "\u001b[1;31mNameError\u001b[0m: name 'plt' is not defined"
     ]
    }
   ],
   "source": [
    "# Wykres zapotrzebowania \n",
    "\n",
    "fig3a, axs = plt.subplots(1, 2, figsize = (20,6))\n",
    "dayList  = srednie_godz['Godzina']\n",
    "godziny = range(1,25) \n",
    "\n",
    "values1 = srednie_godz_lato['zap']\n",
    "axs[0].plot(dayList, values1)\n",
    "axs[0].set_title('Zapotrzebowanie na moc w sezonie letnim')\n",
    "\n",
    "axs[0].set_ylim(15000, 22000)\n",
    "\n",
    "axs[0].set_ylabel('MW')\n",
    "axs[0].set_xlabel('Doba, h')\n",
    "axs[0].grid(True, linestyle='--')\n",
    "axs[0].set_xticks(godziny)\n",
    "\n",
    "\n",
    "\n",
    "values2 = srednie_godz_zima['zap']\n",
    "axs[1].plot(dayList, values2)\n",
    "axs[1].set_title('Zapotrzebowanie na moc w sezonie zimowym')\n",
    "\n",
    "axs[1].set_ylim(15000, 22000)\n",
    "\n",
    "axs[1].set_ylabel('MW')\n",
    "axs[1].set_xlabel('Doba, h')\n",
    "axs[1].grid(True, linestyle='--')\n",
    "\n",
    "number_of_runs = range(1,25) \n",
    "axs[1].set_xticks(godziny)\n",
    "\n",
    "plt.show()"
   ]
  },
  {
   "cell_type": "code",
   "execution_count": null,
   "id": "71a06ed5-30c0-43a7-9bed-10b7abe1c877",
   "metadata": {},
   "outputs": [],
   "source": []
  },
  {
   "cell_type": "code",
   "execution_count": null,
   "id": "5f4de067-55b8-4e67-a44a-438c0aa2b7b2",
   "metadata": {},
   "outputs": [],
   "source": []
  },
  {
   "cell_type": "code",
   "execution_count": null,
   "id": "87f9ac2e-0c59-401d-93a7-e2ff59fe6985",
   "metadata": {},
   "outputs": [],
   "source": []
  },
  {
   "cell_type": "code",
   "execution_count": null,
   "id": "88933ebc-c624-45bd-8add-baedea9afdd7",
   "metadata": {},
   "outputs": [],
   "source": []
  },
  {
   "cell_type": "markdown",
   "id": "478b28f9-72b8-4e3f-86bc-b069e83fccbb",
   "metadata": {},
   "source": [
    "Na dostawie powyższego wykresu widzimy wyraźny podział na dwie głowne wielkości poziomów rezerw. Pierwszy waha się od 1200 do 2200 MW, a drugi od 2200 do 4000 MW. Skok wystepuje po 7 marca. \n",
    "Na dostawie powyższego wykresu widzimy wraźny skok przewidywanych rezerw mocy po 7 marca. \n",
    "wymagana rezerwa w KSE to 9% planowanego zapotrzebowania, więc aby ocenić z czego winika skok wykonany wykres pocentowy. \n",
    "Wykres procentowy pokazuje, że plan koorydnacyjny PSE zakłada wymóg rezerwy mocy na poziomie 18%. \n",
    "Poziom wymaganej nadwyżki mocy jest uzależniony od horyzontu planowania i dla planów opracowywanych w dobie D wynosi:\n",
    "Dla doby D oraz D+1: 9% planowanego (prognozowanego przez OSP) zapotrzebowania.\n",
    "Od doby D+2 do doby D+9 włącznie: 14% planowanego zapotrzebowania.\n",
    "Dla pozostałych dób horyzontu planowania PBM począwszy od doby D+10: 18% planowanego zapotrzebowania."
   ]
  }
 ],
 "metadata": {
  "kernelspec": {
   "display_name": "Python 3 (ipykernel)",
   "language": "python",
   "name": "python3"
  },
  "language_info": {
   "codemirror_mode": {
    "name": "ipython",
    "version": 3
   },
   "file_extension": ".py",
   "mimetype": "text/x-python",
   "name": "python",
   "nbconvert_exporter": "python",
   "pygments_lexer": "ipython3",
   "version": "3.9.13"
  }
 },
 "nbformat": 4,
 "nbformat_minor": 5
}
